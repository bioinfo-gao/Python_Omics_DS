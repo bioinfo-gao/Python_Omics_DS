{
 "cells": [
  {
   "cell_type": "markdown",
   "id": "76196ed9",
   "metadata": {},
   "source": [
    "#### \n",
    "by Paul Orland\n",
    "\n",
    "3D graphics, machine learning, and simulations with Python\n",
    "\n",
    "Version 11 \n",
    "\n",
    "Manning\n",
    "\n",
    "英文版\n",
    "https://github.com/orlandpm/Math-for-Programmers/tree/master/Chapter%2001\n",
    "\n",
    "\n",
    "中文版\n",
    "https://github.com/Zijun-Yin/Math-for-Programmers-zh\n",
    "\n",
    "中文版有非常多的注释，可以作为学习的参考。是我主要学习材料"
   ]
  }
 ],
 "metadata": {
  "kernelspec": {
   "display_name": "torch_cuda",
   "language": "python",
   "name": "python3"
  },
  "language_info": {
   "codemirror_mode": {
    "name": "ipython",
    "version": 3
   },
   "file_extension": ".py",
   "mimetype": "text/x-python",
   "name": "python",
   "nbconvert_exporter": "python",
   "pygments_lexer": "ipython3",
   "version": "3.11.13"
  }
 },
 "nbformat": 4,
 "nbformat_minor": 5
}
