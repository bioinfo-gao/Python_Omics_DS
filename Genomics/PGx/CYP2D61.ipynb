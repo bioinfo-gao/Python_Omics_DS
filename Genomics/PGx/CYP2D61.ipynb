{
 "cells": [
  {
   "cell_type": "code",
   "execution_count": null,
   "id": "a2c5399c",
   "metadata": {},
   "outputs": [],
   "source": [
    "# Install pysam package in current environment\n",
    "# !conda install bioconda::pysam # Install pysam package in system environment\n",
    "# in torch_cuda environment\n",
    "# PackagesNotFoundError: The following packages are not available from current channels:\n",
    "\n",
    "#   - bioconda::pysam\n",
    "\n",
    "# Current channels:\n",
    "\n",
    "#   - https://conda.anaconda.org/conda-forge\n",
    "#   - defaults\n",
    "#   - https://conda.anaconda.org/bioconda\n",
    "#   - https://conda.anaconda.org/nvidia/win-64\n",
    "#   - https://conda.anaconda.org/nvidia/noarch\n",
    "#   - https://conda.anaconda.org/pytorch/win-64\n",
    "#   - https://conda.anaconda.org/pytorch/noarch\n",
    "\n",
    "# To search for alternate channels that may provide the conda package you're\n",
    "# looking for, navigate to\n",
    "\n",
    "#     https://anaconda.org\n",
    "\n",
    "# and use the search bar at the top of the page."
   ]
  },
  {
   "cell_type": "code",
   "execution_count": null,
   "id": "f56b7eeb",
   "metadata": {},
   "outputs": [],
   "source": [
    "conda config --add channels bioconda\n",
    "conda config --add channels conda-forge\n",
    "conda install pysam"
   ]
  },
  {
   "cell_type": "code",
   "execution_count": null,
   "id": "3d54ee05",
   "metadata": {},
   "outputs": [],
   "source": [
    "%conda install bioconda::pysam --yes "
   ]
  },
  {
   "cell_type": "code",
   "execution_count": 2,
   "id": "9978ed66",
   "metadata": {},
   "outputs": [
    {
     "name": "stdout",
     "output_type": "stream",
     "text": [
      "Channels:\n",
      " - conda-forge\n",
      " - defaults\n",
      " - bioconda/label/cf201901\n",
      " - nvidia\n",
      " - pytorch\n",
      "Platform: win-64\n",
      "Collecting package metadata (repodata.json): ...working... done\n",
      "Solving environment: ...working... failed\n",
      "\n",
      "Note: you may need to restart the kernel to use updated packages.\n"
     ]
    },
    {
     "name": "stderr",
     "output_type": "stream",
     "text": [
      "\n",
      "PackagesNotFoundError: The following packages are not available from current channels:\n",
      "\n",
      "  - bioconda/label/cf201901::pysam\n",
      "\n",
      "Current channels:\n",
      "\n",
      "  - https://conda.anaconda.org/conda-forge\n",
      "  - defaults\n",
      "  - https://conda.anaconda.org/bioconda/label/cf201901\n",
      "  - https://conda.anaconda.org/nvidia/win-64\n",
      "  - https://conda.anaconda.org/nvidia/noarch\n",
      "  - https://conda.anaconda.org/pytorch/win-64\n",
      "  - https://conda.anaconda.org/pytorch/noarch\n",
      "\n",
      "To search for alternate channels that may provide the conda package you're\n",
      "looking for, navigate to\n",
      "\n",
      "    https://anaconda.org\n",
      "\n",
      "and use the search bar at the top of the page.\n",
      "\n",
      "\n"
     ]
    }
   ],
   "source": [
    "%conda install bioconda/label/cf201901::pysam --yes"
   ]
  },
  {
   "cell_type": "code",
   "execution_count": null,
   "id": "250f52be",
   "metadata": {},
   "outputs": [],
   "source": [
    "pip install pysam # only this one sucess "
   ]
  },
  {
   "cell_type": "code",
   "execution_count": 3,
   "id": "570e20f2",
   "metadata": {},
   "outputs": [],
   "source": [
    "# 文件: pgx_variant_calling.py\n",
    "# 运行: pip install pandas pysam matplotlib\n",
    "\n",
    "# import pysam  # 用于 VCF 处理\n",
    "import pandas as pd\n",
    "import matplotlib.pyplot as plt\n"
   ]
  },
  {
   "cell_type": "code",
   "execution_count": 4,
   "id": "f556fdd1",
   "metadata": {},
   "outputs": [
    {
     "data": {
      "text/html": [
       "<div>\n",
       "<style scoped>\n",
       "    .dataframe tbody tr th:only-of-type {\n",
       "        vertical-align: middle;\n",
       "    }\n",
       "\n",
       "    .dataframe tbody tr th {\n",
       "        vertical-align: top;\n",
       "    }\n",
       "\n",
       "    .dataframe thead th {\n",
       "        text-align: right;\n",
       "    }\n",
       "</style>\n",
       "<table border=\"1\" class=\"dataframe\">\n",
       "  <thead>\n",
       "    <tr style=\"text-align: right;\">\n",
       "      <th></th>\n",
       "      <th>CHROM</th>\n",
       "      <th>POS</th>\n",
       "      <th>REF</th>\n",
       "      <th>ALT</th>\n",
       "      <th>GT</th>\n",
       "      <th>Gene</th>\n",
       "      <th>Allele</th>\n",
       "      <th>Phenotype</th>\n",
       "      <th>Evidence</th>\n",
       "    </tr>\n",
       "  </thead>\n",
       "  <tbody>\n",
       "    <tr>\n",
       "      <th>0</th>\n",
       "      <td>22</td>\n",
       "      <td>42128945</td>\n",
       "      <td>G</td>\n",
       "      <td>A</td>\n",
       "      <td>0/1</td>\n",
       "      <td>CYP2D6</td>\n",
       "      <td>*4</td>\n",
       "      <td>IM</td>\n",
       "      <td>CPIC Level A</td>\n",
       "    </tr>\n",
       "  </tbody>\n",
       "</table>\n",
       "</div>"
      ],
      "text/plain": [
       "  CHROM       POS REF ALT   GT    Gene Allele Phenotype      Evidence\n",
       "0    22  42128945   G   A  0/1  CYP2D6     *4        IM  CPIC Level A"
      ]
     },
     "execution_count": 4,
     "metadata": {},
     "output_type": "execute_result"
    }
   ],
   "source": [
    "\n",
    "# 步骤 1: 模拟比对和变异调用 (GATK 示例)\n",
    "# 实际命令:\n",
    "# bwa mem hg38.fa R1.fq.gz R2.fq.gz > aligned.sam\n",
    "# samtools sort aligned.bam -o sorted.bam\n",
    "# gatk HaplotypeCaller -R hg38.fa -I sorted.bam -O pgx.vcf\n",
    "\n",
    "# 步骤 2: 加载模拟 VCF 数据\n",
    "vcf_data = pd.DataFrame({\n",
    "  'CHROM': ['22'],\n",
    "  'POS': [42128945],\n",
    "  'REF': ['G'],\n",
    "  'ALT': ['A'],\n",
    "  'GT': ['0/1'],\n",
    "  'Gene': ['CYP2D6'],\n",
    "  'Allele': ['*4'],\n",
    "  'Phenotype': ['IM'],\n",
    "  'Evidence': ['CPIC Level A']\n",
    "})\n",
    "\n",
    "vcf_data"
   ]
  },
  {
   "cell_type": "code",
   "execution_count": 12,
   "id": "6c6e88ec",
   "metadata": {},
   "outputs": [
    {
     "name": "stdout",
     "output_type": "stream",
     "text": [
      "  CHROM       POS REF ALT   GT    Gene Allele Phenotype      Evidence  \\\n",
      "0    22  42128945   G   A  0/1  CYP2D6     *4        IM  CPIC Level A   \n",
      "\n",
      "                         Recommendation  \n",
      "0  Avoid codeine, adjust tamoxifen dose  \n"
     ]
    }
   ],
   "source": [
    "\n",
    "# 步骤 3: 注释与过滤\n",
    "# 模拟 PharmVar/CPIC 注释\n",
    "vcf_data['Recommendation'] = \"Avoid codeine, adjust tamoxifen dose\"  # CPIC 指南\n",
    "#print(\"PGx 变异注释结果:\\n\", vcf_data)\n",
    "print( vcf_data)\n"
   ]
  },
  {
   "cell_type": "code",
   "execution_count": 9,
   "id": "7f024c7c",
   "metadata": {},
   "outputs": [
    {
     "data": {
      "text/html": [
       "<div>\n",
       "<style scoped>\n",
       "    .dataframe tbody tr th:only-of-type {\n",
       "        vertical-align: middle;\n",
       "    }\n",
       "\n",
       "    .dataframe tbody tr th {\n",
       "        vertical-align: top;\n",
       "    }\n",
       "\n",
       "    .dataframe thead th {\n",
       "        text-align: right;\n",
       "    }\n",
       "</style>\n",
       "<table border=\"1\" class=\"dataframe\">\n",
       "  <thead>\n",
       "    <tr style=\"text-align: right;\">\n",
       "      <th></th>\n",
       "      <th>CHROM</th>\n",
       "      <th>POS</th>\n",
       "      <th>REF</th>\n",
       "      <th>ALT</th>\n",
       "      <th>GT</th>\n",
       "      <th>Gene</th>\n",
       "      <th>Allele</th>\n",
       "      <th>Phenotype</th>\n",
       "      <th>Evidence</th>\n",
       "      <th>Recommendation</th>\n",
       "    </tr>\n",
       "  </thead>\n",
       "  <tbody>\n",
       "    <tr>\n",
       "      <th>0</th>\n",
       "      <td>22</td>\n",
       "      <td>42128945</td>\n",
       "      <td>G</td>\n",
       "      <td>A</td>\n",
       "      <td>0/1</td>\n",
       "      <td>CYP2D6</td>\n",
       "      <td>*4</td>\n",
       "      <td>IM</td>\n",
       "      <td>CPIC Level A</td>\n",
       "      <td>Avoid codeine, adjust tamoxifen dose</td>\n",
       "    </tr>\n",
       "  </tbody>\n",
       "</table>\n",
       "</div>"
      ],
      "text/plain": [
       "  CHROM       POS REF ALT   GT    Gene Allele Phenotype      Evidence  \\\n",
       "0    22  42128945   G   A  0/1  CYP2D6     *4        IM  CPIC Level A   \n",
       "\n",
       "                         Recommendation  \n",
       "0  Avoid codeine, adjust tamoxifen dose  "
      ]
     },
     "execution_count": 9,
     "metadata": {},
     "output_type": "execute_result"
    }
   ],
   "source": [
    "vcf_data"
   ]
  },
  {
   "cell_type": "code",
   "execution_count": 14,
   "id": "55c3b3df",
   "metadata": {},
   "outputs": [
    {
     "data": {
      "image/png": "[encoded data removed]",
      "text/plain": [
       "<Figure size 640x480 with 1 Axes>"
      ]
     },
     "metadata": {},
     "output_type": "display_data"
    }
   ],
   "source": [
    "\n",
    "# 步骤 4: 可视化变异位置\n",
    "plt.bar(vcf_data['POS'], [1], color = \"#3B82F6\")\n",
    "plt.title(\"CYP2D6*4 Variation (rs3892097)\")\n",
    "plt.xlabel(\"location (hg38)\")\n",
    "plt.ylabel(\"variant count\")\n",
    "plt.show()\n",
    "\n",
    "# 保存报告\n",
    "vcf_data.to_csv(\"pgx_report.csv\", index = False)\n",
    "\n",
    "# c:\\Users\\zhen-\\anaconda3\\envs\\torch_cuda\\Lib\\site-packages\\IPython\\core\\pylabtools.py:170: UserWarning: Glyph 32622 (\\N{CJK UNIFIED IDEOGRAPH-7F6E}) missing from font(s) DejaVu Sans.\n",
    "#  fig.canvas.print_figure(bytes_io, **kw)  CJK (Chinese, Japanese, and Korean) character. "
   ]
  }
 ],
 "metadata": {
  "kernelspec": {
   "display_name": "torch_cuda",
   "language": "python",
   "name": "python3"
  },
  "language_info": {
   "codemirror_mode": {
    "name": "ipython",
    "version": 3
   },
   "file_extension": ".py",
   "mimetype": "text/x-python",
   "name": "python",
   "nbconvert_exporter": "python",
   "pygments_lexer": "ipython3",
   "version": "3.11.13"
  }
 },
 "nbformat": 4,
 "nbformat_minor": 5
}
