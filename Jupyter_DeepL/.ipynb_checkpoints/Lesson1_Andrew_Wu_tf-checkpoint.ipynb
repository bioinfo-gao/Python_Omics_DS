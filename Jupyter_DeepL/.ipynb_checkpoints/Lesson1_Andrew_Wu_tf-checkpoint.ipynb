{
 "cells": [
  {
   "cell_type": "markdown",
   "id": "17145571-bce5-443e-9383-434bd73a439e",
   "metadata": {},
   "source": [
    "### This is tutorial from deeplearn.ai by Andrew Ng --- Class 1\n",
    "#### by Zhen Gao 2024-08-01\n"
   ]
  },
  {
   "cell_type": "code",
   "execution_count": 1,
   "id": "c38b64d4-7c93-4b2c-b2c5-5e1b11b99cc3",
   "metadata": {},
   "outputs": [
    {
     "name": "stdout",
     "output_type": "stream",
     "text": [
      "[1 2 3 4 5 6]\n"
     ]
    }
   ],
   "source": [
    "import numpy as np\n",
    "\n",
    "a=np.array([1,2,3,4,5,6])\n",
    "print(a)\n"
   ]
  },
  {
   "cell_type": "code",
   "execution_count": 2,
   "id": "3eaff3d6-2926-42a2-8599-2b8b0796e5e7",
   "metadata": {},
   "outputs": [
    {
     "name": "stdout",
     "output_type": "stream",
     "text": [
      "[ 0.21863335  0.02915429  1.02854069 -0.25916781  0.1675256   1.41426689]\n",
      "(6,)\n",
      "[ 0.21863335  0.02915429  1.02854069 -0.25916781  0.1675256   1.41426689]\n",
      "3.2019300827997093\n"
     ]
    }
   ],
   "source": [
    "import numpy as np\n",
    "b=np.random.randn(6)\n",
    "print(b)\n",
    "print(b.shape)\n",
    "print(b.T)\n",
    "print(np.dot(b,b.T))\n"
   ]
  },
  {
   "cell_type": "markdown",
   "id": "9f4550eb-3bb1-4879-9db5-a42bdc6f2814",
   "metadata": {},
   "source": [
    "### Example of create column vector\n",
    "#### edited for above\n",
    "This is an example notebook markdown\n",
    "1. this is item1\n",
    "2. this is item2\n",
    "   "
   ]
  },
  {
   "cell_type": "code",
   "execution_count": 20,
   "id": "43ee8fd1-dba8-4b19-b500-6f9f72d7a766",
   "metadata": {},
   "outputs": [
    {
     "name": "stdout",
     "output_type": "stream",
     "text": [
      "[[ 0.02419807]\n",
      " [-0.28183405]\n",
      " [-2.0023575 ]\n",
      " [ 0.02771971]\n",
      " [ 0.06841677]\n",
      " [ 1.72902598]]\n"
     ]
    }
   ],
   "source": [
    "import numpy as np\n",
    "b1=np.random.randn(6, 1)\n",
    "print(b1)"
   ]
  },
  {
   "cell_type": "code",
   "execution_count": 21,
   "id": "1c60dc11-8f3c-4f21-8eae-ca3d82397257",
   "metadata": {},
   "outputs": [
    {
     "data": {
      "text/plain": [
       "array([[1.02449322],\n",
       "       [0.75439886],\n",
       "       [0.13501661],\n",
       "       [1.02810748],\n",
       "       [1.0708115 ],\n",
       "       [5.63516247]])"
      ]
     },
     "execution_count": 21,
     "metadata": {},
     "output_type": "execute_result"
    }
   ],
   "source": [
    "np.exp(b1)"
   ]
  },
  {
   "cell_type": "code",
   "execution_count": 23,
   "id": "44f5b6f4-395a-485e-8b7f-05e67d449efc",
   "metadata": {},
   "outputs": [
    {
     "data": {
      "text/plain": [
       "array([[-3.72148224],\n",
       "       [-1.26643684],\n",
       "       [ 0.69432524],\n",
       "       [-3.58561153],\n",
       "       [-2.68213724],\n",
       "       [ 0.54755823]])"
      ]
     },
     "execution_count": 23,
     "metadata": {},
     "output_type": "execute_result"
    }
   ],
   "source": [
    "np.log(abs(b1)) # log "
   ]
  },
  {
   "cell_type": "code",
   "execution_count": 25,
   "id": "753de469-9855-4f02-a556-c4debb01f4e3",
   "metadata": {},
   "outputs": [
    {
     "data": {
      "text/plain": [
       "array([[0.1555573 ],\n",
       "       [0.53088045],\n",
       "       [1.41504682],\n",
       "       [0.16649238],\n",
       "       [0.26156601],\n",
       "       [1.31492432]])"
      ]
     },
     "execution_count": 25,
     "metadata": {},
     "output_type": "execute_result"
    }
   ],
   "source": [
    "np.sqrt(abs(b1)) # square root"
   ]
  },
  {
   "cell_type": "code",
   "execution_count": 4,
   "id": "1768b5cf-43ae-45f7-89a9-8fbb267c538c",
   "metadata": {},
   "outputs": [
    {
     "data": {
      "image/png": "[encoded data removed]",
      "text/plain": [
       "<Figure size 640x480 with 1 Axes>"
      ]
     },
     "metadata": {},
     "output_type": "display_data"
    }
   ],
   "source": [
    "import numpy as np\n",
    "import matplotlib.pyplot as plt\n",
    "t = np.arange(0., 5., 0.2)\n",
    "\n",
    "# red dashes, blue squares and green triangles\n",
    "plt.plot(t, t, 'r--', t, t**2, 'bs', t, t**3, 'g^')\n",
    "plt.show()\n",
    "\n"
   ]
  },
  {
   "cell_type": "markdown",
   "id": "fbf230ef-fe23-4e19-a44b-acc81f885ec9",
   "metadata": {},
   "source": [
    "#### this is plot"
   ]
  },
  {
   "cell_type": "code",
   "execution_count": 9,
   "id": "10df072a-5333-4cb9-be28-35cbc34052e9",
   "metadata": {},
   "outputs": [
    {
     "name": "stdout",
     "output_type": "stream",
     "text": [
      "[[ 1.   2.   3.   4.   5.   6. ]\n",
      " [ 4.   5.   6.  74.  85.  66. ]\n",
      " [ 5.   6.   8.5 16.  23.   5. ]]\n",
      "[ 10.   13.   17.5  94.  113.   77. ]\n"
     ]
    }
   ],
   "source": [
    "import numpy as np\n",
    "\n",
    "# shift + alt  + down for duplicate a line\n",
    "A = np.array([\n",
    "             [1,2,3,4,5,6], \n",
    "             [4,5,6, 74,85, 66],\n",
    "             [5,6, 8.5, 16, 23,5] ]\n",
    "            )\n",
    "print(A)\n",
    "\n",
    "cal = A.sum(axis=0)\n",
    "print(cal)\n"
   ]
  },
  {
   "cell_type": "code",
   "execution_count": 11,
   "id": "c0715a53-dc6d-4a8d-a57c-ae1307f3c646",
   "metadata": {},
   "outputs": [
    {
     "name": "stdout",
     "output_type": "stream",
     "text": [
      "250189.67028662632\n",
      "Vectorized version ： 0.5037784576416016ms\n",
      "250189.6702866272\n",
      "Loop version ：  350.00038146972656ms\n"
     ]
    }
   ],
   "source": [
    "import time \n",
    "a = np.random.rand(1000000) # shit contrl botton-arrow for duplicate the current line\n",
    "b = np.random.rand(1000000)\n",
    "\n",
    "tic = time.time()\n",
    "c = np.dot(a,b)\n",
    "toc = time.time()\n",
    "print(c)\n",
    "print(\"Vectorized version ： \" + str(1000*(toc-tic)) + \"ms\" )\n",
    "\n",
    "c=0\n",
    "tic = time.time()\n",
    "for i in range(1000000):\n",
    "    c += a[i]*b[i]\n",
    "toc = time.time()\n",
    "print(c)\n",
    "print(\"Loop version ：  \" + str(1000*(toc-tic)) + \"ms\")\n"
   ]
  },
  {
   "cell_type": "code",
   "execution_count": 14,
   "id": "5ac0b8a5-d9fd-477d-a224-e30894046b32",
   "metadata": {},
   "outputs": [],
   "source": [
    "import tensorflow as tf"
   ]
  },
  {
   "cell_type": "code",
   "execution_count": null,
   "id": "23629c4b-6817-4e4c-9852-b55fae54360a",
   "metadata": {},
   "outputs": [],
   "source": [
    "import tensorflow_probability "
   ]
  },
  {
   "cell_type": "code",
   "execution_count": null,
   "id": "c387f1ec-7ebb-49c9-9a52-6cce182f2e58",
   "metadata": {},
   "outputs": [],
   "source": [
    "# run python command\n",
    "!pip list"
   ]
  },
  {
   "cell_type": "code",
   "execution_count": null,
   "id": "cc6ca717-1a3f-480c-9430-802dd6c0dcb1",
   "metadata": {},
   "outputs": [],
   "source": [
    "import sys\n",
    "!{sys.executable} -m pip install tensorflow_probability"
   ]
  },
  {
   "cell_type": "markdown",
   "id": "deb3e1a7-20a8-4ce7-a71c-50816e3ea855",
   "metadata": {},
   "source": [
    "#### error"
   ]
  },
  {
   "cell_type": "code",
   "execution_count": 4,
   "id": "649b9f5f-7d29-4fdf-9cd7-e7872fc6b4c3",
   "metadata": {},
   "outputs": [
    {
     "name": "stdout",
     "output_type": "stream",
     "text": [
      "[-1.17750761  1.68596692 -0.46576962  0.25988874 -0.73575568]\n",
      "(5,)\n",
      "[[0.45849082]\n",
      " [0.24327316]\n",
      " [0.96414979]\n",
      " [1.43131679]\n",
      " [0.55479447]]\n",
      "(5, 1)\n",
      "[[0.45849082 0.24327316 0.96414979 1.43131679 0.55479447]]\n",
      "(1, 5)\n"
     ]
    }
   ],
   "source": [
    "import numpy as np\n",
    "a1=np.random.randn(5)              # this is rank 1 array , Not good\n",
    "print(a1)\n",
    "print(a1.shape)\n",
    "a2=np.random.randn(5, 1)            # prefered nethod, this is vector (column vector)\n",
    "print(a2)\n",
    "print(a2.shape)\n",
    "print(a2.T)                         # tranformation to row vector\n",
    "print(a2.T.shape)\n",
    "\n",
    "assert(a2.shape==(5,1)) # this is good in programming\n"
   ]
  },
  {
   "cell_type": "code",
   "execution_count": 10,
   "id": "9bdd3518-2519-469d-9d46-87d0c095b8ca",
   "metadata": {},
   "outputs": [
    {
     "name": "stdout",
     "output_type": "stream",
     "text": [
      "[[ 1.   2.   3.   4.   5.   6. ]\n",
      " [ 4.   5.   6.  74.  85.  66. ]\n",
      " [ 5.   6.   8.5 16.  23.   5. ]]\n"
     ]
    }
   ],
   "source": [
    "import numpy as np\n",
    "\n",
    "# shift + alt  + down for duplicate a line\n",
    "A = np.array([\n",
    "             [1,2,3,4,5,6], \n",
    "             [4,5,6, 74,85, 66],\n",
    "             [5,6, 8.5, 16, 23,5] ]\n",
    "            )\n",
    "\n",
    "print(A)"
   ]
  },
  {
   "cell_type": "code",
   "execution_count": 14,
   "id": "991e6623-d41f-485c-8f0e-7b2e3cc39da6",
   "metadata": {},
   "outputs": [
    {
     "name": "stdout",
     "output_type": "stream",
     "text": [
      "(3, 6)\n",
      "(6,)\n",
      "[ 10.   13.   17.5  94.  113.   77. ]\n",
      "(1, 6)\n"
     ]
    }
   ],
   "source": [
    "cal = A.sum(axis=0)\n",
    "print(A.shape)\n",
    "print(cal.shape)\n",
    "print(cal)\n",
    "cal2=cal.reshape(1,6)  # change array to vector\n",
    "print(cal2.shape)"
   ]
  },
  {
   "cell_type": "code",
   "execution_count": 4,
   "id": "0e82d316-752e-4fa6-9580-a81693ba72b4",
   "metadata": {},
   "outputs": [
    {
     "name": "stdout",
     "output_type": "stream",
     "text": [
      "[[10.         15.38461538 17.14285714  4.25531915  4.42477876  7.79220779]\n",
      " [40.         38.46153846 34.28571429 78.72340426 75.22123894 85.71428571]\n",
      " [50.         46.15384615 48.57142857 17.0212766  20.3539823   6.49350649]]\n"
     ]
    }
   ],
   "source": [
    "# broadcasting \n",
    "percentage = 100*A/cal.reshape(1, 6)    # the reshape never hurt\n",
    "print(percentage )\n"
   ]
  },
  {
   "cell_type": "code",
   "execution_count": 9,
   "id": "633353fa-56d5-4e84-b9a1-9996b09b745d",
   "metadata": {},
   "outputs": [
    {
     "data": {
      "text/plain": [
       "100"
      ]
     },
     "execution_count": 9,
     "metadata": {},
     "output_type": "execute_result"
    }
   ],
   "source": [
    "76+12+3+3+3+3"
   ]
  },
  {
   "cell_type": "code",
   "execution_count": 16,
   "id": "ea2c9750-c94b-4ce7-9f68-57ff358a8e6c",
   "metadata": {},
   "outputs": [],
   "source": [
    "assert(cal2.shape==(1,6))"
   ]
  },
  {
   "cell_type": "code",
   "execution_count": null,
   "id": "7511b392-1254-40bd-a808-63ed6765d625",
   "metadata": {},
   "outputs": [],
   "source": []
  }
 ],
 "metadata": {
  "kernelspec": {
   "display_name": "Python 3 (ipykernel)",
   "language": "python",
   "name": "python3"
  },
  "language_info": {
   "codemirror_mode": {
    "name": "ipython",
    "version": 3
   },
   "file_extension": ".py",
   "mimetype": "text/x-python",
   "name": "python",
   "nbconvert_exporter": "python",
   "pygments_lexer": "ipython3",
   "version": "3.12.3"
  },
  "widgets": {
   "application/vnd.jupyter.widget-state+json": {
    "state": {},
    "version_major": 2,
    "version_minor": 0
   }
  }
 },
 "nbformat": 4,
 "nbformat_minor": 5
}
