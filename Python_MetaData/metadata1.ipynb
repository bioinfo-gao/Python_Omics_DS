{
 "cells": [
  {
   "cell_type": "code",
   "execution_count": null,
   "id": "f2f271f8",
   "metadata": {},
   "outputs": [],
   "source": [
    "Python 元类（Metaclasses）详解\n",
    "元类（Metaclass）是 Python 中最强大但也最易被误解的高级特性之一。正如 Python 之禅所说：“元类是深度魔法，99% 的用户应该避免使用它。如果你在犹豫是否需要它，那你就不用它。” 但理解元类对掌握 Python 对象模型至关重要。\n",
    "\n",
    "一、核心概念：一切皆对象，类也是对象\n",
    "1. 类是对象\n",
    "在 Python 中，类本身也是对象，是 type 的实例："
   ]
  },
  {
   "cell_type": "code",
   "execution_count": 1,
   "id": "fd661ede",
   "metadata": {},
   "outputs": [],
   "source": [
    "class MyClass:\n",
    "    pass"
   ]
  },
  {
   "cell_type": "code",
   "execution_count": 2,
   "id": "4e88fd6e",
   "metadata": {},
   "outputs": [
    {
     "name": "stdout",
     "output_type": "stream",
     "text": [
      "<class 'type'>\n",
      "True\n"
     ]
    }
   ],
   "source": [
    "\n",
    "print(type(MyClass))  # <class 'type'>\n",
    "print(isinstance(MyClass, type))  # True\n"
   ]
  },
  {
   "cell_type": "code",
   "execution_count": null,
   "id": "0fa3c6b9",
   "metadata": {},
   "outputs": [],
   "source": [
    "2. 创建类的两种方式\n",
    "普通方式（语法糖）： as above\n"
   ]
  },
  {
   "cell_type": "code",
   "execution_count": null,
   "id": "57f2130a",
   "metadata": {},
   "outputs": [],
   "source": [
    "手动调用 type："
   ]
  },
  {
   "cell_type": "code",
   "execution_count": 3,
   "id": "c1b03979",
   "metadata": {},
   "outputs": [],
   "source": [
    "\n",
    "MyClass = type('MyClass', (), {'x': 1})\n"
   ]
  },
  {
   "cell_type": "code",
   "execution_count": null,
   "id": "c48fed3c",
   "metadata": {},
   "outputs": [],
   "source": [
    "✅ type 就是最基础的元类，负责创建所有类。 \n",
    "\n",
    "二、什么是元类？\n",
    "元类是“类的类”（class of a class）—— 它定义了类的行为，就像类定义了实例的行为。 \n",
    "\n",
    "普通对象 ← 由 类 创建\n",
    "类 ← 由 元类 创建\n",
    "\n",
    "三、自定义元类的两种方式\n",
    "方式 1：继承 type（推荐）"
   ]
  },
  {
   "cell_type": "code",
   "execution_count": null,
   "id": "01e04364",
   "metadata": {},
   "outputs": [
    {
     "name": "stdout",
     "output_type": "stream",
     "text": [
      "Initializing class MyClass\n",
      "True\n"
     ]
    }
   ],
   "source": [
    "class MyMeta(type):      # <<<<====================================================== use keyword 'class' to define a metaclass\n",
    "    def __new__(cls, name, bases, attrs):\n",
    "        # 在类创建前修改 attrs\n",
    "        attrs['added_by_meta'] = True\n",
    "        return super().__new__(cls, name, bases, attrs)\n",
    "    \n",
    "    def __init__(cls, name, bases, attrs):\n",
    "        # 在类创建后初始化\n",
    "        print(f\"Initializing class {name}\")\n",
    "        super().__init__(name, bases, attrs)\n",
    "\n",
    "class MyClass(metaclass=MyMeta):\n",
    "    pass\n",
    "\n",
    "print(MyClass.added_by_meta)  # True\n",
    "# 输出: Initializing class MyClass"
   ]
  },
  {
   "cell_type": "code",
   "execution_count": null,
   "id": "eb9afd3f",
   "metadata": {},
   "outputs": [],
   "source": [
    "方式 2：函数式元类（简单场景）"
   ]
  },
  {
   "cell_type": "code",
   "execution_count": null,
   "id": "9af0c617",
   "metadata": {},
   "outputs": [
    {
     "name": "stdout",
     "output_type": "stream",
     "text": [
      "True\n"
     ]
    }
   ],
   "source": [
    "def my_meta(name, bases, attrs):         # use keyword 'def' to define a metaClass <<<<<======================================================\n",
    "    attrs['added_by_func'] = True\n",
    "    return type(name, bases, attrs)\n",
    "\n",
    "class MyClass(metaclass=my_meta):\n",
    "    pass\n",
    "\n",
    "print(MyClass.added_by_func)  # True\n"
   ]
  },
  {
   "cell_type": "code",
   "execution_count": null,
   "id": "93acb8a4",
   "metadata": {},
   "outputs": [],
   "source": [
    " #四、元类常用方法 through call\n"
   ]
  },
  {
   "cell_type": "code",
   "execution_count": 6,
   "id": "1a0d3d44",
   "metadata": {},
   "outputs": [
    {
     "name": "stdout",
     "output_type": "stream",
     "text": [
      "True\n"
     ]
    }
   ],
   "source": [
    "\n",
    "class SingletonMeta(type):\n",
    "    _instances = {}\n",
    "    \n",
    "    def __call__(cls, *args, **kwargs):\n",
    "        if cls not in cls._instances:\n",
    "            cls._instances[cls] = super().__call__(*args, **kwargs)\n",
    "        return cls._instances[cls]\n",
    "\n",
    "class Database(metaclass=SingletonMeta):\n",
    "    pass\n",
    "\n",
    "db1 = Database()\n",
    "db2 = Database()\n",
    "print(db1 is db2)  # True\n"
   ]
  },
  {
   "cell_type": "code",
   "execution_count": null,
   "id": "0bef09cf",
   "metadata": {},
   "outputs": [],
   "source": [
    "五、元类 vs 类装饰器\n"
   ]
  },
  {
   "cell_type": "code",
   "execution_count": null,
   "id": "9816b611",
   "metadata": {},
   "outputs": [],
   "source": [
    "def singleton(cls):\n",
    "    instances = {}\n",
    "    def get_instance(*args, **kwargs):\n",
    "        if cls not in instances:\n",
    "            instances[cls] = cls(*args, **kwargs)\n",
    "        return instances[cls]\n",
    "    return get_instance\n",
    "\n",
    "@singleton\n",
    "class Database:\n",
    "    pass\n"
   ]
  },
  {
   "cell_type": "code",
   "execution_count": null,
   "id": "3f0b311a",
   "metadata": {},
   "outputs": [],
   "source": [
    "class ModelBase(type):\n",
    "    def __new__(cls, name, bases, attrs):\n",
    "        # 自动注册模型到 apps\n",
    "        new_class = super().__new__(cls, name, bases, attrs)\n",
    "        if name != 'Model':\n",
    "            apps.register_model(new_class)\n",
    "        return new_class\n",
    "\n",
    "class Model(metaclass=ModelBase):\n",
    "    pass\n"
   ]
  },
  {
   "cell_type": "code",
   "execution_count": null,
   "id": "6af8397d",
   "metadata": {},
   "outputs": [],
   "source": [
    "2. Pydantic（数据验证）\n",
    "python\n",
    "\n"
   ]
  },
  {
   "cell_type": "code",
   "execution_count": null,
   "id": "8756d5ec",
   "metadata": {},
   "outputs": [],
   "source": [
    "\n",
    "class ModelMetaclass(type):\n",
    "    def __new__(cls, name, bases, namespace, **kwargs):\n",
    "        # 解析类型注解，生成验证器\n",
    "        namespace['__validators__'] = build_validators(namespace)\n",
    "        return super().__new__(cls, name, bases, namespace)\n"
   ]
  },
  {
   "cell_type": "code",
   "execution_count": null,
   "id": "5ce47e5c",
   "metadata": {},
   "outputs": [],
   "source": [
    "\n",
    "from abc import ABCMeta, abstractmethod\n",
    "\n",
    "class MyABC(metaclass=ABCMeta):\n",
    "    @abstractmethod\n",
    "    def my_method(self):\n",
    "        pass\n",
    "\n",
    "class Concrete(MyABC):\n",
    "    def my_method(self):  # 必须实现\n",
    "        return \"done\"\n"
   ]
  },
  {
   "cell_type": "markdown",
   "id": "186bc692",
   "metadata": {},
   "source": [
    "七、执行顺序（关键！）\n",
    "当定义 class MyClass(metaclass=MyMeta) 时：\n",
    "\n",
    "MyMeta.__new__ 被调用 → 创建类对象\n",
    "MyMeta.__init__ 被调用 → 初始化类对象\n",
    "当调用 MyClass() 时：\n",
    "MyMeta.__call__ 被调用\n",
    "→ MyClass.__new__ 创建实例\n",
    "→ MyClass.__init__ 初始化实例\n",
    "八、常见误区\n",
    "❌ 误区 1：元类用于修改实例行为\n",
    "正解：元类修改类的行为，实例行为由类控制。\n",
    "❌ 误区 2：__metaclass__ 在 Python 3 有效\n",
    "正解：Python 3 使用 metaclass=...，__metaclass__ 仅 Python 2 有效。\n",
    "❌ 误区 3：元类能替代继承\n",
    "正解：元类用于创建类时的元操作，继承用于代码复用。\n",
    "✅ 总结：何时使用元类？\n",
    "需要自动修改类属性\n",
    "✅ 是\n",
    "需要注册所有子类\n",
    "✅ 是\n",
    "实现单例/ORM/验证框架\n",
    "✅ 是\n",
    "简单包装类（如计时）\n",
    "❌ 用装饰器\n",
    "修改实例行为\n",
    "❌ 用\n",
    "__init__\n",
    "/\n",
    "__new__\n",
    "\n",
    "📌 记住：\n",
    "“元类是 99% 场景不需要的深度魔法” —— 但当你需要时，它是唯一解。 "
   ]
  }
 ],
 "metadata": {
  "kernelspec": {
   "display_name": "torch_cuda",
   "language": "python",
   "name": "python3"
  },
  "language_info": {
   "codemirror_mode": {
    "name": "ipython",
    "version": 3
   },
   "file_extension": ".py",
   "mimetype": "text/x-python",
   "name": "python",
   "nbconvert_exporter": "python",
   "pygments_lexer": "ipython3",
   "version": "3.11.13"
  }
 },
 "nbformat": 4,
 "nbformat_minor": 5
}
