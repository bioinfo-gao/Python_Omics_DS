{
 "cells": [
  {
   "cell_type": "markdown",
   "id": "4ad5bdaa",
   "metadata": {},
   "source": [
    "2 space in the end of line means change line \n",
    "\n",
    "General Markdown Formatting (for both HTML and PDF where supported):\n",
    "Bold: **bold text** or __bold text__  \n",
    "Italic: *italic text* or _italic text_  \n",
    "Italic bold: *__italic text__* or _**italic text**_  \n",
    "Strikethrough: ~~strikethrough~~  \n",
    "Code: `` code ``  \n",
    "Superscript: text^super^  \n",
    "Subscript: text~sub~  \n"
   ]
  },
  {
   "cell_type": "markdown",
   "id": "35c7321d",
   "metadata": {},
   "source": [
    "\n",
    "\n",
    "<span style=\"color: red;\">This text is red.</span>  \n",
    "<span style=\"color: blue;\">This text is blue.</span>  \n",
    "<span style=\"color: orange;\">This text is blue.</span>  \n",
    "<span style=\"color: purple\">This text is blue.</span>  \n",
    "<span style=\"color: lightgray\">This text is blue.</span>  \n",
    "<span style=\"color: lightblue\">This text is blue.</span>  \n",
    "<span style=\"color: limon\">This text is blue.</span>  \n",
    "<span style=\"color: cyan\">This text is blue.</span>  \n",
    "<span style=\"color: magenta\">This text is blue.</span>  \n",
    "<span style=\"color: olive\">This text is blue.</span>  \n",
    "<span style=\"color: pink\">This text is blue.</span>  \n"
   ]
  },
  {
   "cell_type": "markdown",
   "id": "2482306c",
   "metadata": {},
   "source": [
    "\n",
    "<span style=\"color: #FF5733;\">This text uses a hexadecimal color code.</span> "
   ]
  },
  {
   "cell_type": "markdown",
   "id": "26cc8848",
   "metadata": {},
   "source": []
  },
  {
   "cell_type": "markdown",
   "id": "d969d453",
   "metadata": {},
   "source": [
    "foo <font color='brown'>bar</font> foo\n",
    "\n",
    "\n",
    "<a >blue color</a>\n",
    "\n",
    "\t`red color`\n"
   ]
  },
  {
   "cell_type": "markdown",
   "id": "49bde8f7",
   "metadata": {},
   "source": [
    "#### list \n",
    "\n",
    "ordered: \n",
    "\n",
    "1. Main item one\n",
    "    1. Sub-item one\n",
    "    1. Sub-item two\n",
    "2. Main item two\n",
    "    1. Another sub-item\n",
    "\n",
    "\n",
    "unordered 1:\n",
    "\n",
    "* Item 1\n",
    "* Item 2\n",
    "  * Nested Item 2.1\n",
    "  * Nested Item 2.2\n",
    "\n",
    "\n",
    "unordered 2:\n",
    "\n",
    "+ Item 3\n",
    "+ Item 4\n",
    "+ Item 4\n",
    "\n",
    "unordered 1:\n",
    "\n",
    "- Item 3\n",
    "- Item 4\n",
    "- Item 4"
   ]
  }
 ],
 "metadata": {
  "language_info": {
   "name": "python"
  }
 },
 "nbformat": 4,
 "nbformat_minor": 5
}
