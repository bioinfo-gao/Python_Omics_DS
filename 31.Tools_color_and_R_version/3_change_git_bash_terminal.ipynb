{
 "cells": [
  {
   "cell_type": "markdown",
   "id": "394dc950",
   "metadata": {},
   "source": [
    "vscode将默认的集成终端从 PowerShell 切换到 Command Prompt (CMD)。\n",
    "以下是切换默认终端并管理终端设置的步骤："
   ]
  },
  {
   "cell_type": "code",
   "execution_count": null,
   "id": "7d17b546",
   "metadata": {},
   "outputs": [],
   "source": [
    "步骤一：打开 VS Code 设置\n",
    "点击菜单栏的 File (文件) -> Preferences (首选项) -> Settings (设置) (快捷键：Ctrl + ,)。"
   ]
  },
  {
   "cell_type": "code",
   "execution_count": null,
   "id": "55e06464",
   "metadata": {},
   "outputs": [],
   "source": [
    "\n",
    "\n",
    "步骤二：修改默认 Shell\n",
    "在 Settings (设置) 搜索框中输入：terminal.integrated.defaultProfile.windows\n",
    "找到 \"Terminal > Integrated: Default Profile: Windows\" 设置项。\n",
    "点击设置项下方的下拉菜单。\n",
    "将默认值从 PowerShell 更改为 Command Prompt。\n"
   ]
  },
  {
   "cell_type": "markdown",
   "id": "2981702c",
   "metadata": {},
   "source": [
    "步骤三：验证更改\n",
    "点击菜单栏的 Terminal (终端) -> New Terminal (新建终端) (快捷键：Ctrl + Shift + ' )。\n",
    "新打开的终端应该是 Windows Command Prompt (CMD)。\n",
    "very good thing is that the git bach command is also available as terminal command.\n",
    "I chosed the git bach "
   ]
  }
 ],
 "metadata": {
  "language_info": {
   "name": "python"
  }
 },
 "nbformat": 4,
 "nbformat_minor": 5
}
